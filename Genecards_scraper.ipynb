{
 "cells": [
  {
   "cell_type": "code",
   "execution_count": 116,
   "metadata": {},
   "outputs": [],
   "source": [
    "from bs4 import BeautifulSoup\n",
    "from selenium  import webdriver\n",
    "import time\n",
    "from selenium.common.exceptions import WebDriverException\n",
    "import json"
   ]
  },
  {
   "cell_type": "code",
   "execution_count": 99,
   "metadata": {},
   "outputs": [],
   "source": [
    "gene_name=\"SOST\"\n",
    "URL= \"https://www.genecards.org/cgi-bin/carddisp.pl?gene=\"+gene_name+\"&keywords=\"+gene_name\n",
    "driver = webdriver.Chrome(\"C:/driver/chromedriver.exe\")\n",
    "driver.get(URL)\n",
    "time.sleep(3)"
   ]
  },
  {
   "cell_type": "code",
   "execution_count": 100,
   "metadata": {},
   "outputs": [],
   "source": [
    "soup = BeautifulSoup(driver.page_source)"
   ]
  },
  {
   "cell_type": "code",
   "execution_count": 102,
   "metadata": {},
   "outputs": [],
   "source": [
    "def gene_name(soup):\n",
    "    gene_alias=soup.find('span',attrs={'id':'aliasMainName'}).text #Basically the protein name\n",
    "    return(gene_alias)"
   ]
  },
  {
   "cell_type": "code",
   "execution_count": 103,
   "metadata": {},
   "outputs": [],
   "source": [
    "def genomic_location(soup):\n",
    "    genomic_location=\"\"\n",
    "    m=soup.find('section',attrs={'id':'genomic_location'}).find(\n",
    "        'div',attrs={'class':'col-xs-12 col-sm-4'}).findAll(['dt','dd'])\n",
    "    for i in range(0,2) :\n",
    "        genomic_location=genomic_location+(m[i].text) #adding the first two elements of the findall to get the genomic location \n",
    "    return(genomic_location)"
   ]
  },
  {
   "cell_type": "code",
   "execution_count": 104,
   "metadata": {},
   "outputs": [],
   "source": [
    "def cytogenic_location(soup): #cytogenic location by HGNC\n",
    "    cyt_location=soup.find('section',attrs={'id':'genomic_location'}).find(\n",
    "            'dl',attrs={'class':'dl-horizontal gc-dl-9'}).find('li').text\n",
    "    return(cyt_location)"
   ]
  },
  {
   "cell_type": "code",
   "execution_count": 105,
   "metadata": {},
   "outputs": [
    {
     "data": {
      "text/plain": [
       "'17q21.31 by HGNC'"
      ]
     },
     "execution_count": 105,
     "metadata": {},
     "output_type": "execute_result"
    }
   ],
   "source": [
    "cytogenic_location(soup)"
   ]
  },
  {
   "cell_type": "code",
   "execution_count": 120,
   "metadata": {},
   "outputs": [],
   "source": [
    "def localization(soup):\n",
    "    loc=json.loads(soup.find('section',attrs={'id':'localization'}).find(\n",
    "        'div',attrs={'data-ng-controller':'goTermController'}).find(\n",
    "        'div').get('data-json'))[0]['Term']\n",
    "    return(loc)"
   ]
  },
  {
   "cell_type": "code",
   "execution_count": 121,
   "metadata": {},
   "outputs": [
    {
     "data": {
      "text/plain": [
       "'extracellular region'"
      ]
     },
     "execution_count": 121,
     "metadata": {},
     "output_type": "execute_result"
    }
   ],
   "source": [
    "localization(soup)"
   ]
  },
  {
   "cell_type": "code",
   "execution_count": 143,
   "metadata": {},
   "outputs": [],
   "source": [
    "def molecular_function(soup):\n",
    "    mol_function=json.loads(soup.find('section',attrs={'id':'function'}).find(\n",
    "            'div',attrs={'data-ng-controller':'goTermController'}).find(\n",
    "            'div').get('data-json'))\n",
    "    m_f=\"\"\n",
    "    for i in mol_function:\n",
    "        m_f=m_f+i['Term']+\", \"\n",
    "    return(m_f)"
   ]
  },
  {
   "cell_type": "code",
   "execution_count": 144,
   "metadata": {},
   "outputs": [
    {
     "data": {
      "text/plain": [
       "'protein binding, transcription factor binding, heparin binding, BMP binding, '"
      ]
     },
     "execution_count": 144,
     "metadata": {},
     "output_type": "execute_result"
    }
   ],
   "source": [
    "molecular_function(soup)"
   ]
  },
  {
   "cell_type": "code",
   "execution_count": 145,
   "metadata": {},
   "outputs": [],
   "source": [
    "#Protein and gene interactions (data not present on genecards)"
   ]
  },
  {
   "cell_type": "code",
   "execution_count": 153,
   "metadata": {},
   "outputs": [],
   "source": [
    "def pathways(soup): #only selecting the first pathway from genecards.org\n",
    "    pathways=soup.find('section',attrs={'id':'pathways_interactions'}).find('strong').text\n",
    "    return(pathways)"
   ]
  },
  {
   "cell_type": "code",
   "execution_count": 154,
   "metadata": {},
   "outputs": [
    {
     "data": {
      "text/plain": [
       "'Signaling by Wnt'"
      ]
     },
     "execution_count": 154,
     "metadata": {},
     "output_type": "execute_result"
    }
   ],
   "source": [
    "pathways(soup)"
   ]
  },
  {
   "cell_type": "code",
   "execution_count": 178,
   "metadata": {},
   "outputs": [],
   "source": [
    "def about_gene(soup):\n",
    "    s=(soup.find('section',attrs={'id':'summaries'}).findAll(\n",
    "        'div',attrs={'class':'gc-subsection'})[2].find('li').text).replace('\\n',\"\").split('.')\n",
    "    return(s[0])"
   ]
  },
  {
   "cell_type": "code",
   "execution_count": 186,
   "metadata": {},
   "outputs": [],
   "source": [
    "def drugs(soup):\n",
    "    drugs=json.loads(soup.find('section',attrs={'id':'drugs_compounds'}).find(\n",
    "                'div',attrs={'data-ng-controller':'UnifiedDrugController'}).find(\n",
    "                'div').get('data-json'))\n",
    "    m_f=\"\"\n",
    "    for i in drugs:\n",
    "        m_f=m_f+i['Name']+\", \"\n",
    "    return(m_f)"
   ]
  },
  {
   "cell_type": "code",
   "execution_count": 206,
   "metadata": {},
   "outputs": [],
   "source": [
    "def interactions_regulators(soup):\n",
    "    ir=soup.find('section',attrs={'id':'pathways_interactions'}).find(\n",
    "        'dl',attrs={'class':'dl-horizontal dl-horizontal-unaligned'}).text.replace(\"\\n\\n\\n\\n\",\" \").replace(\n",
    "        '\\n',\"\")\n",
    "    return(ir)"
   ]
  },
  {
   "cell_type": "code",
   "execution_count": 218,
   "metadata": {},
   "outputs": [],
   "source": [
    "def diseases(soup):\n",
    "    d=[]\n",
    "    disorders=json.loads(soup.find('section',attrs={'id':'diseases'}).find(\n",
    "                    'div',attrs={'data-ng-controller':'UnifiedDisorderTableController'}).find(\n",
    "                    'div').get('data-json'))\n",
    "    for i in disorders:\n",
    "        d.append(i['Disorder']['Text'])\n",
    "    return(d)"
   ]
  },
  {
   "cell_type": "markdown",
   "metadata": {},
   "source": [
    "Will store the gene names in a list, will iterate through the list to scrape info about genes and get the final dataframe for all the required genes"
   ]
  },
  {
   "cell_type": "code",
   "execution_count": 219,
   "metadata": {},
   "outputs": [],
   "source": [
    "gene_list=['SOST','TNFRSF11B','TNFRSF11A','TNFSF11']"
   ]
  },
  {
   "cell_type": "code",
   "execution_count": null,
   "metadata": {},
   "outputs": [],
   "source": []
  }
 ],
 "metadata": {
  "kernelspec": {
   "display_name": "Python 3",
   "language": "python",
   "name": "python3"
  },
  "language_info": {
   "codemirror_mode": {
    "name": "ipython",
    "version": 3
   },
   "file_extension": ".py",
   "mimetype": "text/x-python",
   "name": "python",
   "nbconvert_exporter": "python",
   "pygments_lexer": "ipython3",
   "version": "3.8.3"
  }
 },
 "nbformat": 4,
 "nbformat_minor": 4
}
